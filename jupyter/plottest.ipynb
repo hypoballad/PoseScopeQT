{
 "cells": [
  {
   "cell_type": "code",
   "execution_count": 1,
   "metadata": {},
   "outputs": [],
   "source": [
    "import numpy as np\n",
    "import matplotlib.pyplot as plt\n",
    "from mpl_toolkits.mplot3d import Axes3D\n",
    "\n",
    "%matplotlib inline"
   ]
  },
  {
   "cell_type": "code",
   "execution_count": 2,
   "metadata": {},
   "outputs": [],
   "source": [
    "def initial_data():\n",
    "    # 初期データをプロット\n",
    "    initial_data = np.array([\n",
    "        [ -17.68479511, -137.32915113,   46.32500283],\n",
    "        [ -33.1789197,  -152.42541124,   43.86178683],\n",
    "        [ -13.88828957, -133.48733746,   42.86239107],\n",
    "        [ -31.1724372,  -148.96894162,   37.59119652],\n",
    "        [ -19.49794841,  -143.5796686,   41.65777614],\n",
    "        [ -34.99854766, -157.59790079,   36.28797697],\n",
    "        [ -21.19631125, -135.04368494,   34.04813656],\n",
    "        [ -29.48844711, -141.14590498,   32.14978359],\n",
    "        [ -19.8226329,  -129.23647155,   24.03262747],\n",
    "        [ -25.89702903, -133.17774691,   22.31863603],\n",
    "        [ -18.02112367, -123.42931204,   17.89555559],\n",
    "        [ -23.66030401, -126.31139358,   18.42510557]\n",
    "    ])\n",
    "    initial_data = np.reshape(initial_data, (12, 3))\n",
    "    return initial_data"
   ]
  },
  {
   "cell_type": "code",
   "execution_count": 3,
   "metadata": {},
   "outputs": [],
   "source": [
    "def pose_context():\n",
    "        torso = [[0, 1] , [1, 7], [7, 6], [6, 0]]\n",
    "        armr = [[1, 3], [3, 5]]\n",
    "        arml = [[0, 2], [2, 4]]\n",
    "        legr = [[6, 8], [8, 10]]\n",
    "        legl = [[7, 9], [9, 11]]\n",
    "        body = [torso, arml, armr, legr, legl]\n",
    "        colors = ['red', 'blue', 'green', 'black', 'orange']\n",
    "        return body, colors\n",
    "\n",
    "body, colors = pose_context()"
   ]
  },
  {
   "cell_type": "code",
   "execution_count": 13,
   "metadata": {},
   "outputs": [],
   "source": [
    "\n",
    "def get_R_x(theta):\n",
    "    R = np.array([[1, 0, 0],\n",
    "                  [0, np.cos(theta), -np.sin(theta)],\n",
    "                  [0, np.sin(theta),  np.cos(theta)]])\n",
    "    return R\n",
    "\n",
    "R = get_R_x(np.pi/2)\n",
    "\n",
    "\n",
    "\n",
    "# Get the initial data\n",
    "data = initial_data()\n",
    "\n",
    "data = data @ R   \n",
    "\n",
    "#data[:, 0] = -data[:, 0]\n",
    "\n",
    "#data = data_mat[:, [0, 2, 1]]\n",
    "#data[:, 2] = -data[:, 2]"
   ]
  },
  {
   "cell_type": "code",
   "execution_count": 16,
   "metadata": {},
   "outputs": [
    {
     "data": {
      "image/png": "[encoded data removed]",
      "text/plain": [
       "<Figure size 640x480 with 1 Axes>"
      ]
     },
     "metadata": {},
     "output_type": "display_data"
    }
   ],
   "source": [
    "\n",
    "# Create a 3D plot\n",
    "fig = plt.figure()\n",
    "ax = fig.add_subplot(111, projection='3d')\n",
    "ax.set_box_aspect([1, 1, 1])\n",
    "\n",
    "for bodypart, part_color in zip(body, colors):\n",
    "    for line in bodypart:\n",
    "        ax.plot(xs = [data[line[0], 0], data[line[1], 0]], ys = [data[line[0], 1], data[line[1], 1]], zs = [data[line[0], 2], data[line[1], 2]], color=part_color)\n",
    "\n",
    "\n",
    "# Plot the data\n",
    "#ax.scatter(data[:, 0], data[:, 1], data[:, 2])\n",
    "x_min, x_max = np.min(data[:, 0]), np.max(data[:, 0])\n",
    "y_min, y_max = np.min(data[:, 1]), np.max(data[:, 1])\n",
    "z_min, z_max = np.min(data[:, 2]), np.max(data[:, 2])\n",
    "\n",
    "# Add some padding to the limits\n",
    "padding = 10  # Adjust this value as needed\n",
    "x_min, x_max = x_min - padding, x_max + padding\n",
    "y_min, y_max = y_min - padding, y_max + padding\n",
    "z_min, z_max = z_min - padding, z_max + padding\n",
    "\n",
    "# Set plot labels and limits\n",
    "ax.set_xticks([])\n",
    "ax.set_yticks([])\n",
    "ax.set_zticks([])\n",
    "\n",
    "ax.set_xlim3d(x_min, x_max)\n",
    "ax.set_xlabel('x')\n",
    "#ax.set_ylim3d(y_max, y_min)\n",
    "ax.set_ylim3d(y_min, y_max)\n",
    "ax.set_ylabel('y')\n",
    "ax.set_zlim3d(z_min, z_max)\n",
    "ax.set_zlabel('z')\n",
    "\n",
    "# Show the plot\n",
    "#ax.view_init(elev=90, azim=-90)\n",
    "#ax.view_init(elev=30, azim=270) \n",
    "plt.show()\n"
   ]
  },
  {
   "cell_type": "code",
   "execution_count": null,
   "metadata": {},
   "outputs": [],
   "source": []
  },
  {
   "cell_type": "code",
   "execution_count": null,
   "metadata": {},
   "outputs": [],
   "source": []
  }
 ],
 "metadata": {
  "kernelspec": {
   "display_name": "venv",
   "language": "python",
   "name": "python3"
  },
  "language_info": {
   "codemirror_mode": {
    "name": "ipython",
    "version": 3
   },
   "file_extension": ".py",
   "mimetype": "text/x-python",
   "name": "python",
   "nbconvert_exporter": "python",
   "pygments_lexer": "ipython3",
   "version": "3.10.11"
  }
 },
 "nbformat": 4,
 "nbformat_minor": 2
}
