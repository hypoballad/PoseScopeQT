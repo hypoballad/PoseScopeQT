{
 "cells": [
  {
   "cell_type": "code",
   "execution_count": 26,
   "metadata": {},
   "outputs": [],
   "source": [
    "import numpy as np\n",
    "import matplotlib.pyplot as plt\n",
    "from mpl_toolkits.mplot3d import Axes3D\n",
    "\n",
    "%matplotlib inline"
   ]
  },
  {
   "cell_type": "code",
   "execution_count": 27,
   "metadata": {},
   "outputs": [],
   "source": [
    "def initial_data():\n",
    "    # 初期データをプロット\n",
    "    initial_data = np.array([\n",
    "        [-9.81378778e+00, -1.24372782e+01,  7.32440659e+01],\n",
    "        [-1.64275751e+01, -7.45205382e+00,  6.33793068e+01],\n",
    "        [-1.10910598e+01, -6.99648844e+00,  7.78467957e+01],\n",
    "        [-2.10451824e+01, -2.94512661e-02,  6.15220600e+01],\n",
    "        [-8.42691311e+00, -2.10616607e+00,  7.80126077e+01],\n",
    "        [-2.06730016e+01,  7.47726705e+00,  5.89097405e+01],\n",
    "        [-1.37142256e+01,  3.80347145e+00,  7.64230344e+01],\n",
    "        [-1.71672077e+01,  6.02623089e+00,  6.89905823e+01],\n",
    "        [-9.19240959e+00,  1.15623532e+01,  7.43161194e+01],\n",
    "        [-1.58462378e+01,  1.54214672e+01,  6.98437437e+01],\n",
    "        [-1.18937695e+01,  2.15897357e+01,  7.87119709e+01],\n",
    "        [-1.47568446e+01,  2.36223011e+01,  7.19959216e+01]\n",
    "    ])\n",
    "    initial_data = np.reshape(initial_data, (12, 3))\n",
    "    return initial_data"
   ]
  },
  {
   "cell_type": "code",
   "execution_count": 30,
   "metadata": {},
   "outputs": [],
   "source": [
    "def pose_context():\n",
    "        torso = [[0, 1] , [1, 7], [7, 6], [6, 0]]\n",
    "        armr = [[1, 3], [3, 5]]\n",
    "        arml = [[0, 2], [2, 4]]\n",
    "        legr = [[6, 8], [8, 10]]\n",
    "        legl = [[7, 9], [9, 11]]\n",
    "        body = [torso, arml, armr, legr, legl]\n",
    "        colors = ['red', 'blue', 'green', 'black', 'orange']\n",
    "        return body, colors\n",
    "\n",
    "body, colors = pose_context()"
   ]
  },
  {
   "cell_type": "code",
   "execution_count": 54,
   "metadata": {},
   "outputs": [],
   "source": [
    "# Get the initial data\n",
    "data = initial_data()\n",
    "data[:, 0] = -data[:, 0]\n",
    "\n",
    "#data = data_mat[:, [0, 2, 1]]\n",
    "#data[:, 2] = -data[:, 2]"
   ]
  },
  {
   "cell_type": "code",
   "execution_count": 62,
   "metadata": {},
   "outputs": [
    {
     "data": {
      "image/png": "[encoded data removed]",
      "text/plain": [
       "<Figure size 640x480 with 1 Axes>"
      ]
     },
     "metadata": {},
     "output_type": "display_data"
    }
   ],
   "source": [
    "\n",
    "# Create a 3D plot\n",
    "fig = plt.figure()\n",
    "ax = fig.add_subplot(111, projection='3d')\n",
    "\n",
    "for bodypart, part_color in zip(body, colors):\n",
    "    for line in bodypart:\n",
    "        ax.plot(xs = [data[line[0], 0], data[line[1], 0]], ys = [data[line[0], 1], data[line[1], 1]], zs = [data[line[0], 2], data[line[1], 2]], color=part_color)\n",
    "\n",
    "\n",
    "# Plot the data\n",
    "#ax.scatter(data[:, 0], data[:, 1], data[:, 2])\n",
    "x_min, x_max = np.min(data[:, 0]), np.max(data[:, 0])\n",
    "y_min, y_max = np.min(data[:, 1]), np.max(data[:, 1])\n",
    "z_min, z_max = np.min(data[:, 2]), np.max(data[:, 2])\n",
    "\n",
    "# Add some padding to the limits\n",
    "padding = 10  # Adjust this value as needed\n",
    "x_min, x_max = x_min - padding, x_max + padding\n",
    "y_min, y_max = y_min - padding, y_max + padding\n",
    "z_min, z_max = z_min - padding, z_max + padding\n",
    "\n",
    "# Set plot labels and limits\n",
    "ax.set_xticks([])\n",
    "ax.set_yticks([])\n",
    "ax.set_zticks([])\n",
    "\n",
    "ax.set_xlim3d(x_min, x_max)\n",
    "ax.set_xlabel('x')\n",
    "ax.set_ylim3d(y_max, y_min)\n",
    "ax.set_ylabel('y')\n",
    "ax.set_zlim3d(z_min, z_max)\n",
    "ax.set_zlabel('z')\n",
    "\n",
    "# Show the plot\n",
    "ax.view_init(elev=90, azim=-90) \n",
    "plt.show()\n"
   ]
  },
  {
   "cell_type": "code",
   "execution_count": null,
   "metadata": {},
   "outputs": [],
   "source": []
  }
 ],
 "metadata": {
  "kernelspec": {
   "display_name": "venv",
   "language": "python",
   "name": "python3"
  },
  "language_info": {
   "codemirror_mode": {
    "name": "ipython",
    "version": 3
   },
   "file_extension": ".py",
   "mimetype": "text/x-python",
   "name": "python",
   "nbconvert_exporter": "python",
   "pygments_lexer": "ipython3",
   "version": "3.10.11"
  }
 },
 "nbformat": 4,
 "nbformat_minor": 2
}
